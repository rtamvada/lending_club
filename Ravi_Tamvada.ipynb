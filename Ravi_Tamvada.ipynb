{
 "cells": [
  {
   "cell_type": "markdown",
   "id": "8da001d4-9d3f-4bb6-a177-cb45f68764c6",
   "metadata": {
    "tags": []
   },
   "source": [
    "\n",
    "# Lending Club Case Study"
   ]
  },
  {
   "cell_type": "code",
   "execution_count": 3,
   "id": "ff5dd60c-8753-464f-8a5e-cb6fe20f4317",
   "metadata": {},
   "outputs": [],
   "source": [
    "## import libraries\n",
    "import numpy as np\n",
    "import pandas as pd\n",
    "import matplotlib.pyplot as plt\n",
    "import seaborn as sns\n",
    "import warnings\n",
    "warnings.filterwarnings('ignore')"
   ]
  },
  {
   "cell_type": "code",
   "execution_count": null,
   "id": "d16321e5-d14b-4a9e-8448-98ea01cf7823",
   "metadata": {},
   "outputs": [],
   "source": []
  },
  {
   "cell_type": "code",
   "execution_count": null,
   "id": "c45a77bb-1c6e-4033-bbeb-9380ff5a6476",
   "metadata": {},
   "outputs": [],
   "source": []
  }
 ],
 "metadata": {
  "kernelspec": {
   "display_name": "Python 3 (ipykernel)",
   "language": "python",
   "name": "python3"
  },
  "language_info": {
   "codemirror_mode": {
    "name": "ipython",
    "version": 3
   },
   "file_extension": ".py",
   "mimetype": "text/x-python",
   "name": "python",
   "nbconvert_exporter": "python",
   "pygments_lexer": "ipython3",
   "version": "3.9.7"
  }
 },
 "nbformat": 4,
 "nbformat_minor": 5
}
